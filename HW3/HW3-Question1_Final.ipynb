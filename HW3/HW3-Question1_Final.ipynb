{
 "cells": [
  {
   "cell_type": "markdown",
   "metadata": {},
   "source": [
    "\n",
    "# <p style=\"text-align: center;\">EE 461P: Data Science Principles</p>\n",
    "# <p style=\"text-align: center;\">Assignment 3</p>\n",
    "## <p style=\"text-align: center;\">Total points: 75</p>\n",
    "## <p style=\"text-align: center;\">Due: Thursday, October 25th, submitted via Canvas by 11:59 pm</p>\n",
    "\n",
    "Your homework should be written in a **Jupyter notebook**. You may work in groups of two if you wish. Only one student per team needs to submit the assignment on Canvas.  **Please include the name and UTEID for both students on all submitted files (including this notebook).** In addition, please convert **your filename including your EID** (ex. ss324.jpynb or ss324_mj345.jpypb).\n",
    "\n",
    "Also, please make sure your code runs and the graphics (and anything else) are displayed in your notebook before submitting. (%matplotlib inline)"
   ]
  },
  {
   "cell_type": "markdown",
   "metadata": {},
   "source": [
    "# Question 1a - Stochastic Gradient Descent (25pts)"
   ]
  },
  {
   "cell_type": "markdown",
   "metadata": {},
   "source": [
    "1. (4pts) Using stochastic gradient descent, derive the coefficent updates for all 4 coefficients of the model: $$ y = w_0 + w_1x_1 + w_2x_1^2 + w_3x_1x_2 $$ Hint: start from the cost function (Assume sum of squared error). If you write the math by hand, include the image in your notebook.\n",
    "\n",
    "\n",
    "2. (12pts) Write Python code for an SGD solution to the non-linear model $$ y = w_0 + w_1x_1 + w_2x_1^2 + w_3x_1x_2$$ Try to format similarly to scikit-learn's models. Your class should take as input the learning_rate, regularization_constant and number of epochs. The fit method must take as input X,y and a choice of update_rule as 'sgd' or 'sgd_momentum' or 'rmsprop'(Notes on implementation below). The _predict_ method takes an X value (optionally, an array of values). Use your new gradient descent regression to predict the data given in 'samples.csv', for 15 epochs, using learning rates: [.0001, .001, .01, 0.1, 1, 10, 100] and regularization constants in the range: [0,10,100] . Plot MSE and the $w$ parameters as a function of epoch (for 15 epochs) for the best 2 combinations of learning_rate and regularization for SGD, SGD-Momentum and RMSProp. I.e., you should have one plot of MSE and another for the parameter updates for SGD, SGD-Momentum and RMSProp (6 plots total).\n",
    "\n",
    "\n",
    "4. (2pts) Report the MSE at the end of 15 epochs for both combinations.\n",
    "\n",
    "\n",
    "5. (3pts) Based on the experiments, which of the 3 techniques allowed for larger initial setting of the learning_rate? Why?\n",
    "\n",
    "\n",
    "6. Now consider the following 2x2x1 network with one hidden layer. The input layer has two nodes, and the output layer has one node."
   ]
  },
  {
   "cell_type": "code",
   "execution_count": 29,
   "metadata": {},
   "outputs": [],
   "source": [
    "#1 only working with training data, predict training data, and fit on training data"
   ]
  },
  {
   "cell_type": "code",
   "execution_count": 30,
   "metadata": {},
   "outputs": [],
   "source": [
    "#5 It is RMS PROP because the learning rate is adaptive, and decreases as the number of iterations increases"
   ]
  },
  {
   "cell_type": "code",
   "execution_count": 31,
   "metadata": {},
   "outputs": [],
   "source": [
    "#MUST CORRECT BELOW"
   ]
  },
  {
   "cell_type": "code",
   "execution_count": 32,
   "metadata": {},
   "outputs": [],
   "source": [
    "#MUST CORRECT BELOW "
   ]
  },
  {
   "cell_type": "code",
   "execution_count": 33,
   "metadata": {},
   "outputs": [],
   "source": [
    "#MUST CORRECT BELOW"
   ]
  },
  {
   "cell_type": "code",
   "execution_count": 34,
   "metadata": {},
   "outputs": [],
   "source": [
    "#wo(t+1) = wo(t) - learning_rate*(actual - wo(t)) * 2\n",
    "#w1(t+1) = w1(t) - learning_rate*(actual - w1(t)*x1) * x1 * 2\n",
    "#w2(t+1) = w2(t) - learning_rate*(actual - w2(t)*x1^2) * x1^2 *2\n",
    "#w3(t+1) = w3(t) - learning_rate*(actual - w3(t)*x1*x2)*x1*x2 * 2"
   ]
  },
  {
   "cell_type": "code",
   "execution_count": 35,
   "metadata": {},
   "outputs": [],
   "source": [
    "import pandas as pd\n",
    "import numpy as np"
   ]
  },
  {
   "cell_type": "code",
   "execution_count": 36,
   "metadata": {},
   "outputs": [
    {
     "data": {
      "text/html": [
       "<div>\n",
       "<style scoped>\n",
       "    .dataframe tbody tr th:only-of-type {\n",
       "        vertical-align: middle;\n",
       "    }\n",
       "\n",
       "    .dataframe tbody tr th {\n",
       "        vertical-align: top;\n",
       "    }\n",
       "\n",
       "    .dataframe thead th {\n",
       "        text-align: right;\n",
       "    }\n",
       "</style>\n",
       "<table border=\"1\" class=\"dataframe\">\n",
       "  <thead>\n",
       "    <tr style=\"text-align: right;\">\n",
       "      <th></th>\n",
       "      <th>Unnamed: 0</th>\n",
       "      <th>x1</th>\n",
       "      <th>x2</th>\n",
       "      <th>y</th>\n",
       "    </tr>\n",
       "  </thead>\n",
       "  <tbody>\n",
       "    <tr>\n",
       "      <th>0</th>\n",
       "      <td>0</td>\n",
       "      <td>4.697532</td>\n",
       "      <td>1.135251</td>\n",
       "      <td>-18.284819</td>\n",
       "    </tr>\n",
       "    <tr>\n",
       "      <th>1</th>\n",
       "      <td>1</td>\n",
       "      <td>-0.324355</td>\n",
       "      <td>1.042443</td>\n",
       "      <td>-0.251914</td>\n",
       "    </tr>\n",
       "    <tr>\n",
       "      <th>2</th>\n",
       "      <td>2</td>\n",
       "      <td>-0.982079</td>\n",
       "      <td>4.053857</td>\n",
       "      <td>-2.350819</td>\n",
       "    </tr>\n",
       "    <tr>\n",
       "      <th>3</th>\n",
       "      <td>3</td>\n",
       "      <td>2.637966</td>\n",
       "      <td>4.107375</td>\n",
       "      <td>-2.831104</td>\n",
       "    </tr>\n",
       "    <tr>\n",
       "      <th>4</th>\n",
       "      <td>4</td>\n",
       "      <td>4.359560</td>\n",
       "      <td>3.727414</td>\n",
       "      <td>-12.663515</td>\n",
       "    </tr>\n",
       "  </tbody>\n",
       "</table>\n",
       "</div>"
      ],
      "text/plain": [
       "   Unnamed: 0        x1        x2          y\n",
       "0           0  4.697532  1.135251 -18.284819\n",
       "1           1 -0.324355  1.042443  -0.251914\n",
       "2           2 -0.982079  4.053857  -2.350819\n",
       "3           3  2.637966  4.107375  -2.831104\n",
       "4           4  4.359560  3.727414 -12.663515"
      ]
     },
     "execution_count": 36,
     "metadata": {},
     "output_type": "execute_result"
    }
   ],
   "source": [
    "samples = pd.read_csv('samples.csv')\n",
    "samples.head()"
   ]
  },
  {
   "cell_type": "code",
   "execution_count": 37,
   "metadata": {},
   "outputs": [],
   "source": [
    "X = samples.iloc[:,1:3]\n",
    "y = samples.iloc[:,3]"
   ]
  },
  {
   "cell_type": "code",
   "execution_count": 38,
   "metadata": {},
   "outputs": [],
   "source": [
    "from sklearn.metrics import mean_squared_error"
   ]
  },
  {
   "cell_type": "code",
   "execution_count": 39,
   "metadata": {},
   "outputs": [],
   "source": [
    "import matplotlib.pyplot as plt"
   ]
  },
  {
   "cell_type": "code",
   "execution_count": 40,
   "metadata": {},
   "outputs": [],
   "source": [
    "#\n",
    "learning_rates = [.0001, .001, .01, 0.1, 1, 10, 100]\n",
    "reg_constants = [0,10,100] \n",
    "num_epochs = 15\n",
    "#sgd_regressor = SGDRegressor(learning_rates,reg_consts,num_epochs)\n",
    "#coefs = sgd_regressor.fit(X,y,'done')"
   ]
  },
  {
   "cell_type": "code",
   "execution_count": 41,
   "metadata": {},
   "outputs": [],
   "source": [
    "class SGDRegressor:\n",
    "    def __init__(self,learning_rate,regularization_constant,number_of_epochs):\n",
    "        \n",
    "        self.learning_rate = learning_rate\n",
    "        self.regularization_constant = regularization_constant\n",
    "        self.number_of_epochs = number_of_epochs\n",
    "        self.w = np.zeros(4)\n",
    "        self.v = np.zeros(4)\n",
    "        self.cache = np.zeros(4)\n",
    "        self.decay_rate = 0.9\n",
    "    def fit(self,X,y,update_rule):\n",
    "        gradient = np.zeros(4)\n",
    "        actual = 0\n",
    "        predicted = 0\n",
    "        #print('initialize done')\n",
    "        \n",
    "        for j in range(0,self.number_of_epochs):\n",
    "            for i in range(0,X.shape[0]):\n",
    "                actual = y[i]\n",
    "                #print('Actual: ' + str(actual))\n",
    "                point = X.iloc[i:i+1,:]\n",
    "                x1 = point.iloc[0,0]\n",
    "                x2 = point.iloc[0,1]\n",
    "                #print('X1= ' + str(x1) + ' X2= ' + str(x2))\n",
    "                predicted = self.w[0] + self.w[1]*x1 + self.w[2]*x1**2 + self.w[3]*x1*x2\n",
    "\n",
    "                error = predicted - actual\n",
    "                #removed lambda regularizer failed when set to 0\n",
    "                #print('Error: ' + str(error))\n",
    "                gradient[0] = 2*(error) \n",
    "                gradient[1] = 2*(error*x1)\n",
    "                gradient[2] = 2*(error*x1**2)\n",
    "                gradient[3] = 2*(error*x1*x2)\n",
    "                \n",
    "                \n",
    "                #print('Gradient: ' + str(gradient))\n",
    "                #update the coefficients \n",
    "                if update_rule == 'SGD':\n",
    "                    #print('Weights: ' + str(self.w))\n",
    "                    self.w[0] = self.w[0] - self.learning_rate*gradient[0]  \n",
    "                    self.w[1] = self.w[1] - self.learning_rate*gradient[1]\n",
    "                    self.w[2] = self.w[2] - self.learning_rate*gradient[2]\n",
    "                    self.w[3] = self.w[3] - self.learning_rate*gradient[3]\n",
    "                elif update_rule == 'SGD-Momentum':\n",
    "                    self.v[0] = self.v[0] - self.learning_rate*gradient[0] \n",
    "                    self.v[1] = self.v[1] - self.learning_rate*gradient[1]  \n",
    "                    self.v[2] = self.v[2] - self.learning_rate*gradient[2]\n",
    "                    self.v[3] = self.v[3] - self.learning_rate*gradient[3]  \n",
    "\n",
    "                    self.w += self.v\n",
    "                else:\n",
    "                    for i in range(0,4):\n",
    "                        self.cache[i] = (0.9)*(self.cache[i]) + (0.1)*(gradient[i]**2)\n",
    "                    \n",
    "                    self.w[0] = self.w[0] - (self.learning_rate)/(np.sqrt(self.cache[0] + 1.1e-6))*gradient[0]\n",
    "                    self.w[1] = self.w[1] - (self.learning_rate)/(np.sqrt(self.cache[1] + 1.1e-6))*gradient[1]\n",
    "                    self.w[2] = self.w[2] - (self.learning_rate)/(np.sqrt(self.cache[2] + 1.1e-6))*gradient[2]\n",
    "                    self.w[3] = self.w[3] - (self.learning_rate)/(np.sqrt(self.cache[3] + 1.1e-6))*gradient[3]\n",
    "                    \n",
    "\n",
    "\n",
    "#weights = weights - ((learning_rate)/sqrt(cache+1e-6))*gradients\n",
    "#Use decay_rate = 0.90. Initialize cache with zeros.\n",
    "                    \n",
    "                #print('Done with iteration: ' + str(i))\n",
    "            #print('Done with epoch: ' + str(j))\n",
    "            #for i in range(0,len(self.w)):\n",
    "                #print('Coefficient: ' + str(i) + ' ' + str(self.w[i]))\n",
    "                \n",
    "    def predict(self,X):\n",
    "        y = np.zeros(X.shape[0])\n",
    "        for i in range(0,X.shape[0]):\n",
    "            point = X.iloc[i:i+1,:]\n",
    "            x1 = point.iloc[0,0]\n",
    "            x2 = point.iloc[0,1]\n",
    "            predicted = self.w[0] + self.w[1]*x1 + self.w[2]*x1**2 + self.w[3]*x1*x2\n",
    "            y[i] = predicted\n",
    "            \n",
    "        return y                "
   ]
  },
  {
   "cell_type": "code",
   "execution_count": 42,
   "metadata": {},
   "outputs": [
    {
     "name": "stdout",
     "output_type": "stream",
     "text": [
      "Model Index: 0\n",
      "14.287803558583805\n",
      "3.6828851298570213\n",
      "1.6382188803905726\n",
      "1.037556218546273\n",
      "0.7996363920599546\n",
      "0.6826399773863904\n",
      "0.6119513575591963\n",
      "0.5607032708375411\n",
      "0.5186252634278303\n",
      "0.4816563689538011\n",
      "0.44811889886535833\n",
      "0.41726141978008835\n",
      "0.3886976653603892\n",
      "0.36218938091979125\n",
      "0.3375618808619169\n"
     ]
    },
    {
     "data": {
      "image/png": "[encoded data removed]",
      "text/plain": [
       "<Figure size 432x288 with 1 Axes>"
      ]
     },
     "metadata": {},
     "output_type": "display_data"
    },
    {
     "name": "stdout",
     "output_type": "stream",
     "text": [
      "Model Index: 1\n",
      "0.8101275745729194\n",
      "0.3577733858567549\n",
      "0.1591941234206756\n",
      "0.07280997903554008\n",
      "0.03512925567227984\n",
      "0.018560376473032596\n",
      "0.011132046712699436\n",
      "0.007660619227106689\n",
      "0.005907416341851375\n",
      "0.004908721780282663\n",
      "0.004251102181957096\n",
      "0.003757624883906936\n",
      "0.003352414927379974\n",
      "0.003002452859519114\n",
      "0.002692724650811369\n"
     ]
    },
    {
     "data": {
      "image/png": "[encoded data removed]",
      "text/plain": [
       "<Figure size 432x288 with 1 Axes>"
      ]
     },
     "metadata": {},
     "output_type": "display_data"
    },
    {
     "name": "stdout",
     "output_type": "stream",
     "text": [
      "Model Index: 2\n",
      "5.073075608082219e+18\n",
      "3.393539847698858e+35\n",
      "2.2700455472205374e+52\n",
      "1.5185048703494921e+69\n",
      "1.015775672033736e+86\n",
      "6.794842980372603e+102\n",
      "4.545284199953311e+119\n",
      "3.040483572324184e+136\n",
      "2.0338750993102205e+153\n",
      "1.3605230290496327e+170\n",
      "9.100966491020787e+186\n",
      "6.0879227548644566e+203\n",
      "4.0724030250812554e+220\n",
      "2.7241584800726097e+237\n",
      "1.8222752951627238e+254\n"
     ]
    },
    {
     "data": {
      "image/png": "[encoded data removed]",
      "text/plain": [
       "<Figure size 432x288 with 1 Axes>"
      ]
     },
     "metadata": {},
     "output_type": "display_data"
    },
    {
     "name": "stderr",
     "output_type": "stream",
     "text": [
      "C:\\Users\\NikhilGaur\\Anaconda3\\lib\\site-packages\\sklearn\\metrics\\regression.py:239: RuntimeWarning: overflow encountered in square\n",
      "  output_errors = np.average((y_true - y_pred) ** 2, axis=0,\n",
      "C:\\Users\\NikhilGaur\\Anaconda3\\lib\\site-packages\\ipykernel_launcher.py:32: RuntimeWarning: overflow encountered in double_scalars\n",
      "C:\\Users\\NikhilGaur\\Anaconda3\\lib\\site-packages\\ipykernel_launcher.py:42: RuntimeWarning: invalid value encountered in double_scalars\n",
      "C:\\Users\\NikhilGaur\\Anaconda3\\lib\\site-packages\\ipykernel_launcher.py:25: RuntimeWarning: invalid value encountered in double_scalars\n"
     ]
    },
    {
     "ename": "ValueError",
     "evalue": "Input contains NaN, infinity or a value too large for dtype('float64').",
     "output_type": "error",
     "traceback": [
      "\u001b[1;31m---------------------------------------------------------------------------\u001b[0m",
      "\u001b[1;31mValueError\u001b[0m                                Traceback (most recent call last)",
      "\u001b[1;32m<ipython-input-42-0eb5733a6e14>\u001b[0m in \u001b[0;36m<module>\u001b[1;34m()\u001b[0m\n\u001b[0;32m     32\u001b[0m                 \u001b[0mcoefficient_all_models_epochs_sgd\u001b[0m\u001b[1;33m[\u001b[0m\u001b[0mmodel_index\u001b[0m\u001b[1;33m]\u001b[0m\u001b[1;33m[\u001b[0m\u001b[0mepoch_num\u001b[0m\u001b[1;33m]\u001b[0m\u001b[1;33m[\u001b[0m\u001b[0mcoef\u001b[0m\u001b[1;33m]\u001b[0m \u001b[1;33m=\u001b[0m \u001b[0msgd_regressor\u001b[0m\u001b[1;33m.\u001b[0m\u001b[0mw\u001b[0m\u001b[1;33m[\u001b[0m\u001b[0mcoef\u001b[0m\u001b[1;33m]\u001b[0m\u001b[1;33m\u001b[0m\u001b[0m\n\u001b[0;32m     33\u001b[0m             \u001b[0my_pred\u001b[0m \u001b[1;33m=\u001b[0m \u001b[0msgd_regressor\u001b[0m\u001b[1;33m.\u001b[0m\u001b[0mpredict\u001b[0m\u001b[1;33m(\u001b[0m\u001b[0mX\u001b[0m\u001b[1;33m)\u001b[0m\u001b[1;33m\u001b[0m\u001b[0m\n\u001b[1;32m---> 34\u001b[1;33m             \u001b[0mmse_sgd\u001b[0m \u001b[1;33m=\u001b[0m \u001b[0mmean_squared_error\u001b[0m\u001b[1;33m(\u001b[0m\u001b[0my\u001b[0m\u001b[1;33m,\u001b[0m\u001b[0my_pred\u001b[0m\u001b[1;33m)\u001b[0m\u001b[1;33m\u001b[0m\u001b[0m\n\u001b[0m\u001b[0;32m     35\u001b[0m             \u001b[0mmean_squared_error_all_models_epochs_sgd\u001b[0m\u001b[1;33m[\u001b[0m\u001b[0mmodel_index\u001b[0m\u001b[1;33m]\u001b[0m\u001b[1;33m[\u001b[0m\u001b[0mepoch_num\u001b[0m\u001b[1;33m]\u001b[0m \u001b[1;33m=\u001b[0m \u001b[0mmse_sgd\u001b[0m \u001b[1;31m#k is actually model num\u001b[0m\u001b[1;33m\u001b[0m\u001b[0m\n\u001b[0;32m     36\u001b[0m             \u001b[0mfinal_mse_all_models_sgd\u001b[0m\u001b[1;33m[\u001b[0m\u001b[0mmodel_index\u001b[0m\u001b[1;33m]\u001b[0m \u001b[1;33m=\u001b[0m \u001b[0mmse_sgd\u001b[0m \u001b[1;31m#keep track of final mse for all models\u001b[0m\u001b[1;33m\u001b[0m\u001b[0m\n",
      "\u001b[1;32m~\\Anaconda3\\lib\\site-packages\\sklearn\\metrics\\regression.py\u001b[0m in \u001b[0;36mmean_squared_error\u001b[1;34m(y_true, y_pred, sample_weight, multioutput)\u001b[0m\n\u001b[0;32m    236\u001b[0m     \"\"\"\n\u001b[0;32m    237\u001b[0m     y_type, y_true, y_pred, multioutput = _check_reg_targets(\n\u001b[1;32m--> 238\u001b[1;33m         y_true, y_pred, multioutput)\n\u001b[0m\u001b[0;32m    239\u001b[0m     output_errors = np.average((y_true - y_pred) ** 2, axis=0,\n\u001b[0;32m    240\u001b[0m                                weights=sample_weight)\n",
      "\u001b[1;32m~\\Anaconda3\\lib\\site-packages\\sklearn\\metrics\\regression.py\u001b[0m in \u001b[0;36m_check_reg_targets\u001b[1;34m(y_true, y_pred, multioutput)\u001b[0m\n\u001b[0;32m     75\u001b[0m     \u001b[0mcheck_consistent_length\u001b[0m\u001b[1;33m(\u001b[0m\u001b[0my_true\u001b[0m\u001b[1;33m,\u001b[0m \u001b[0my_pred\u001b[0m\u001b[1;33m)\u001b[0m\u001b[1;33m\u001b[0m\u001b[0m\n\u001b[0;32m     76\u001b[0m     \u001b[0my_true\u001b[0m \u001b[1;33m=\u001b[0m \u001b[0mcheck_array\u001b[0m\u001b[1;33m(\u001b[0m\u001b[0my_true\u001b[0m\u001b[1;33m,\u001b[0m \u001b[0mensure_2d\u001b[0m\u001b[1;33m=\u001b[0m\u001b[1;32mFalse\u001b[0m\u001b[1;33m)\u001b[0m\u001b[1;33m\u001b[0m\u001b[0m\n\u001b[1;32m---> 77\u001b[1;33m     \u001b[0my_pred\u001b[0m \u001b[1;33m=\u001b[0m \u001b[0mcheck_array\u001b[0m\u001b[1;33m(\u001b[0m\u001b[0my_pred\u001b[0m\u001b[1;33m,\u001b[0m \u001b[0mensure_2d\u001b[0m\u001b[1;33m=\u001b[0m\u001b[1;32mFalse\u001b[0m\u001b[1;33m)\u001b[0m\u001b[1;33m\u001b[0m\u001b[0m\n\u001b[0m\u001b[0;32m     78\u001b[0m \u001b[1;33m\u001b[0m\u001b[0m\n\u001b[0;32m     79\u001b[0m     \u001b[1;32mif\u001b[0m \u001b[0my_true\u001b[0m\u001b[1;33m.\u001b[0m\u001b[0mndim\u001b[0m \u001b[1;33m==\u001b[0m \u001b[1;36m1\u001b[0m\u001b[1;33m:\u001b[0m\u001b[1;33m\u001b[0m\u001b[0m\n",
      "\u001b[1;32m~\\Anaconda3\\lib\\site-packages\\sklearn\\utils\\validation.py\u001b[0m in \u001b[0;36mcheck_array\u001b[1;34m(array, accept_sparse, dtype, order, copy, force_all_finite, ensure_2d, allow_nd, ensure_min_samples, ensure_min_features, warn_on_dtype, estimator)\u001b[0m\n\u001b[0;32m    451\u001b[0m                              % (array.ndim, estimator_name))\n\u001b[0;32m    452\u001b[0m         \u001b[1;32mif\u001b[0m \u001b[0mforce_all_finite\u001b[0m\u001b[1;33m:\u001b[0m\u001b[1;33m\u001b[0m\u001b[0m\n\u001b[1;32m--> 453\u001b[1;33m             \u001b[0m_assert_all_finite\u001b[0m\u001b[1;33m(\u001b[0m\u001b[0marray\u001b[0m\u001b[1;33m)\u001b[0m\u001b[1;33m\u001b[0m\u001b[0m\n\u001b[0m\u001b[0;32m    454\u001b[0m \u001b[1;33m\u001b[0m\u001b[0m\n\u001b[0;32m    455\u001b[0m     \u001b[0mshape_repr\u001b[0m \u001b[1;33m=\u001b[0m \u001b[0m_shape_repr\u001b[0m\u001b[1;33m(\u001b[0m\u001b[0marray\u001b[0m\u001b[1;33m.\u001b[0m\u001b[0mshape\u001b[0m\u001b[1;33m)\u001b[0m\u001b[1;33m\u001b[0m\u001b[0m\n",
      "\u001b[1;32m~\\Anaconda3\\lib\\site-packages\\sklearn\\utils\\validation.py\u001b[0m in \u001b[0;36m_assert_all_finite\u001b[1;34m(X)\u001b[0m\n\u001b[0;32m     42\u001b[0m             and not np.isfinite(X).all()):\n\u001b[0;32m     43\u001b[0m         raise ValueError(\"Input contains NaN, infinity\"\n\u001b[1;32m---> 44\u001b[1;33m                          \" or a value too large for %r.\" % X.dtype)\n\u001b[0m\u001b[0;32m     45\u001b[0m \u001b[1;33m\u001b[0m\u001b[0m\n\u001b[0;32m     46\u001b[0m \u001b[1;33m\u001b[0m\u001b[0m\n",
      "\u001b[1;31mValueError\u001b[0m: Input contains NaN, infinity or a value too large for dtype('float64')."
     ]
    }
   ],
   "source": [
    "#loop over all regularization constants\n",
    "coefficient_all_models_epochs_sgd = np.zeros(shape = (21,15,4))\n",
    "coefficient_all_models_epochs_sgd_momentum_regressor = np.zeros(shape = (21,15,4))\n",
    "coefficient_all_models_epochs_sgd_rms_props = np.zeros(shape = (21,15,4))\n",
    "mean_squared_error_all_models_epochs_sgd = np.zeros(shape = (21,15))\n",
    "mean_squared_error_all_models_epochs_sgd_momentum = np.zeros(shape = (21,15))\n",
    "mean_squared_error_all_models_epochs_sgd_rms_props = np.zeros(shape = (21,15))\n",
    "mse_sgd = 0\n",
    "mse_sgd_momentum = 0\n",
    "model_index = 0\n",
    "final_mse_all_models_sgd = np.zeros(21)\n",
    "final_mse_all_models_sgd_momentum = np.zeros(21)\n",
    "final_mse_all_models_sgd_momentum_rms_prop = np.zeros(21)\n",
    "sgd_learning_rates = np.zeros(21)\n",
    "sgd_momentum_learning_rates = np.zeros(21)\n",
    "sgd_reg_consts = np.zeros(21)\n",
    "#epoch_num = 0\n",
    "\n",
    "for reg_const in reg_constants:\n",
    "    #print('Reg Const: ' + str(reg_const))\n",
    "    for learning_rate in learning_rates:\n",
    "        sgd_regressor = SGDRegressor(learning_rate,reg_const,1)\n",
    "        #print('Learning Rate: ' + str(learning_rate))\n",
    "\n",
    "        for epoch_num in range(0,num_epochs):\n",
    "            mse_sgd = 0\n",
    "            sgd_regressor.fit(X,y,'SGD')\n",
    "            #print('Model Index: ' + str(model_index) + ' Epoch Number: ' + str(epoch_num))\n",
    "\n",
    "            for coef in range(0,coefficient_all_models_epochs_sgd.shape[2]):\n",
    "                #print('Coefficient: ' + str(i) + ' ' + str(sgd_regressor.w[i]))\n",
    "                coefficient_all_models_epochs_sgd[model_index][epoch_num][coef] = sgd_regressor.w[coef]\n",
    "            y_pred = sgd_regressor.predict(X)\n",
    "            mse_sgd = mean_squared_error(y,y_pred)\n",
    "            mean_squared_error_all_models_epochs_sgd[model_index][epoch_num] = mse_sgd #k is actually model num\n",
    "            final_mse_all_models_sgd[model_index] = mse_sgd #keep track of final mse for all models\n",
    "        print('Model Index: ' + str(model_index))\n",
    "        for epoch in range(0,15):\n",
    "            plt.scatter(epoch,mean_squared_error_all_models_epochs_sgd[model_index][epoch])\n",
    "            print(mean_squared_error_all_models_epochs_sgd[model_index][epoch])\n",
    "        plt.show()\n",
    "        #sgd_learning_rates[model_index] = learning_rate\n",
    "        #sgd_reg_consts[model_index] = reg_const\n",
    "        #print('Model Index: ' + str(model_index) + ' Final Coefficient Vector: ' + str(sgd_regressor.w))\n",
    "        #print('Learning Rate: ' + str(learning_rate) + 'Reg Const: ' + str(reg_const))\n",
    "        model_index+=1\n",
    "        "
   ]
  },
  {
   "cell_type": "code",
   "execution_count": null,
   "metadata": {},
   "outputs": [],
   "source": [
    "y_pred"
   ]
  },
  {
   "cell_type": "code",
   "execution_count": null,
   "metadata": {},
   "outputs": [],
   "source": [
    "y"
   ]
  },
  {
   "cell_type": "code",
   "execution_count": null,
   "metadata": {},
   "outputs": [],
   "source": [
    "#Model Index: 1 Epoch Number: 14\n",
    "#Model Index: 1 Final Coefficient Vector: [ 0.02924744  0.4981523  -0.99470778  0.2490308 ]"
   ]
  },
  {
   "cell_type": "code",
   "execution_count": null,
   "metadata": {},
   "outputs": [],
   "source": [
    "#Learning Rate: 0.001Reg Const: 0\n",
    "#Learning Rate: 0.01\n",
    "#Gradient at Beginning of Model 3 (Index:2) Gradient: [ 36.56963831 171.78703654 806.97505595 195.02140303]"
   ]
  },
  {
   "cell_type": "code",
   "execution_count": null,
   "metadata": {
    "scrolled": true
   },
   "outputs": [],
   "source": [
    "print(final_mse_all_models_sgd)"
   ]
  },
  {
   "cell_type": "code",
   "execution_count": null,
   "metadata": {},
   "outputs": [],
   "source": [
    "#find best two models in regular sgd\n",
    "final_mse_all_models_sgd_sorted_indices = np.argsort(final_mse_all_models_sgd) \n",
    "smallest_mse_index = final_mse_all_models_sgd_sorted_indices[0]\n",
    "second_smallest_mse_index = final_mse_all_models_sgd_sorted_indices[1]\n",
    "#final_mse_all_models_sgd_sorted = np.sort(final_mse_all_models_sgd)\n",
    "#print(final_mse_all_models_sgd_sorted)\n",
    "# best_sgd_model_coefficients_per_epoch is array of arrays, it has the 15 epochs of the best sgd model, and the coefficients for\n",
    "#for all those epochs\n",
    "best_sgd_model_coefficients_per_epoch = coefficient_all_models_epochs_sgd[smallest_mse_index]\n",
    "print('BEST MSE SGD: ' + str(final_mse_all_models_sgd[smallest_mse_index]))\n",
    "second_best_sgd_model_coefficients_per_epoch = coefficient_all_models_epochs_sgd[second_smallest_mse_index]\n",
    "print('SECOND BEST MSE SGD: ' + str(final_mse_all_models_sgd[second_smallest_mse_index]))\n",
    "\n",
    "#gives list of coefficients at each epoch, indexing gets you coefficients\n",
    "\n",
    "#get coefficients and MSE for models based on epochs"
   ]
  },
  {
   "cell_type": "code",
   "execution_count": null,
   "metadata": {},
   "outputs": [],
   "source": [
    "for epoch in range(0,15):\n",
    "    epoch_coefficients = best_sgd_model_coefficients_per_epoch[epoch]\n",
    "    #print('Epoch Coefficients shape: ' + str(epoch_coefficients.shape))\n",
    "    print('Epoch: ' + str(epoch) + ' ' + str(epoch_coefficients))"
   ]
  },
  {
   "cell_type": "code",
   "execution_count": null,
   "metadata": {},
   "outputs": [],
   "source": [
    "final_mse_all_models_sgd_momentum_sorted_indices = np.argsort(final_mse_all_models_sgd_momentum)\n",
    "smallest_mse_sgd_momentum_index = final_mse_all_models_sgd_momentum_sorted_indices[0]\n",
    "second_smallest_mse_sgd_momentum_index = final_mse_all_models_sgd_momentum_sorted_indices[1]\n",
    "best_sgd_momentum_model_coefficients_per_epoch = coefficient_all_models_epochs_sgd_momentum_regressor[smallest_mse_sgd_momentum_index]\n",
    "print('BEST MSE SGD_MOMENTUM: ' + str(final_mse_all_models_sgd_momentum[smallest_mse_sgd_momentum_index]))\n",
    "second_best_sgd_momentum_model_coefficients_per_epoch = coefficient_all_models_epochs_sgd_momentum_regressor[second_smallest_mse_sgd_momentum_index]\n",
    "print('SECOND BEST MSE SGD_MOMENTUM: ' + str(final_mse_all_models_sgd_momentum[second_smallest_mse_sgd_momentum_index]))\n"
   ]
  },
  {
   "cell_type": "code",
   "execution_count": null,
   "metadata": {},
   "outputs": [],
   "source": [
    "final_mse_all_models_sgd_momentum_rms_prop_sorted_indices = np.argsort(final_mse_all_models_sgd_momentum_rms_prop)\n",
    "smallest_mse_rms_prop_index = final_mse_all_models_sgd_momentum_rms_prop_sorted_indices[0]\n",
    "second_smallest_mse_rms_prop_index = final_mse_all_models_sgd_momentum_rms_prop_sorted_indices[1]\n",
    "best_sgd_momentum_rms_prop_model_coefficients_per_epoch = coefficient_all_models_epochs_sgd_rms_props[0]\n",
    "print('BEST MSE SGD_RMS_PROPS: ' + str(final_mse_all_models_sgd_momentum_rms_prop[smallest_mse_rms_prop_index]))\n",
    "second_best_sgd_momentum_rms_prop_model_coefficients_per_epoch = coefficient_all_models_epochs_sgd_rms_props[1] \n",
    "print('SECOND BEST MSE SGD_RMS_PROPS: ' + str(final_mse_all_models_sgd_momentum_rms_prop[second_smallest_mse_rms_prop_index]))"
   ]
  },
  {
   "cell_type": "code",
   "execution_count": null,
   "metadata": {},
   "outputs": [],
   "source": [
    "import matplotlib.pyplot as plt\n",
    "epochs = list(range(1,16))\n",
    "coefficients = list()\n",
    "ax = plt.gca()\n",
    "for epoch in range(0,15):\n",
    "    epoch_coefficients = best_sgd_model_coefficients_per_epoch[epoch]\n",
    "    #print('Epoch Coefficients shape: ' + str(epoch_coefficients.shape))\n",
    "    print('Epoch: ' + str(epoch) + ' ' + str(epoch_coefficients))\n",
    "    for coefficient in epoch_coefficients:\n",
    "        plt.scatter(epoch,coefficient)\n",
    "plt.show()"
   ]
  },
  {
   "cell_type": "code",
   "execution_count": null,
   "metadata": {},
   "outputs": [],
   "source": [
    "for coef in sgd_regressor.w:\n",
    "    print('Coef: ' + str(coef))"
   ]
  },
  {
   "attachments": {
    "q1_networkdiagram.PNG": {
     "image/png": "[encoded data removed]"
    }
   },
   "cell_type": "markdown",
   "metadata": {},
   "source": [
    "![q1_networkdiagram.PNG](attachment:q1_networkdiagram.PNG)"
   ]
  },
  {
   "cell_type": "markdown",
   "metadata": {},
   "source": [
    "Both hidden layer units use a *sigmoid* activation function, and the output unit uses an identity activation (i.e. the output is just a weighted sum of the inputs).\n",
    "\n",
    "(a) (2pts) Write the output $y$ as a function of the inputs $x_1$ and $x_2$.\n",
    "\n",
    "(b) (2pts) Derive the update rule for the layer-one weight $w_{12}^{(1)}$."
   ]
  },
  {
   "cell_type": "code",
   "execution_count": null,
   "metadata": {},
   "outputs": [],
   "source": [
    "#SHAT IS WRONG WITH THE COEFFICIENTS REMOVE SGD_MOMENTUM CODE and RMS PROPS CODE"
   ]
  },
  {
   "cell_type": "code",
   "execution_count": null,
   "metadata": {},
   "outputs": [],
   "source": [
    "#a"
   ]
  },
  {
   "cell_type": "code",
   "execution_count": null,
   "metadata": {},
   "outputs": [],
   "source": [
    "#(w11x1 + w21x2)*w1^(2) + (w12^(1)x1 + w22^(1)x2)*w2^(2)  "
   ]
  },
  {
   "cell_type": "markdown",
   "metadata": {},
   "source": [
    "# Notes on SGD with momentum\n",
    "Momentum helps accelerate SGD in relevant direction and dampens the oscillations. It tries to maintain the direction in which the gradient vector was already pointing and adjusts the direction slowly with the new gradients. The steps can be listed below :\n",
    "1. v[t] = mu * v[t-1] - (learning_rate)*(gradient)\n",
    "2. w = w + v\n",
    "\n",
    "Set mu = 0.90. Initialize v with zeros.\n"
   ]
  },
  {
   "cell_type": "markdown",
   "metadata": {},
   "source": [
    "# Notes on RMSProp\n",
    "RMSProp (http://ruder.io/optimizing-gradient-descent/) differs from vanilla SGD in that the learning rate of each weight changes over updates. The RMSProp update adjusts the Adagrad method in a very simple way in an attempt to reduce its aggressive, monotonically decreasing learning rate.  In particular, it uses a moving average of squared gradients as cache. The learning_rate is divided by the cache, resulting in a different learning rate for each weight. A consequence of this update rule is that weights that have already seen large gradients (made large jumps) make smaller updates in subsequent iterations.\n",
    "Specifically, the steps can be listed as below:\n",
    "1. cache = (decay_rate)*(cache) + (1 - decay_rate)*(gradients^2) \n",
    "2. weights = weights - ((learning_rate)/sqrt(cache+1e-6))*gradients\n",
    "\n",
    "Use decay_rate = 0.90. Initialize cache with zeros."
   ]
  },
  {
   "cell_type": "markdown",
   "metadata": {},
   "source": [
    "# (Optional) Notes on Training with Gradient Descent\n",
    "1. Compute error: This consists of a prediction error and a regularization term. From an implementation perspective, this is a function that takes as input the truth, prediction and regularization hyperparameter and returns an error\n",
    "2. Compute gradients: Take a derivative of the error in terms of the weights. This can be modelled as a function that takes as input the error and features and returns the gradients for each weight\n",
    "3. Update weights: Weight updates can be done using vanilla SGD or adaptive techniques. The update function takes as inputs the gradient and hyperparameters and returns the new weights."
   ]
  },
  {
   "cell_type": "markdown",
   "metadata": {},
   "source": [
    "## Answer"
   ]
  },
  {
   "cell_type": "markdown",
   "metadata": {},
   "source": [
    "# Question 2 - Multi-layer perceptron Regressor (15 pts)"
   ]
  },
  {
   "cell_type": "markdown",
   "metadata": {},
   "source": [
    "In this question, you will explore the application of Multi-layer Perceptron (MLP) regression using sklearn package in Python;\n",
    "http://scikit-learn.org/stable/modules/generated/sklearn.neural_network.MLPRegressor.html.\n",
    "\n",
    "\n",
    "We will use the OpenCL gemm kernel performance prediction dataset for this problem; https://archive.ics.uci.edu/ml/datasets/SGEMM+GPU+kernel+performance.\n",
    "\n",
    "Following code will pre-process the data and split the data into training and test set using [train_test_split](http://scikit-learn.org/stable/modules/generated/sklearn.model_selection.train_test_split.html) with **random state 30** and **test_size = 0.25**."
   ]
  },
  {
   "cell_type": "markdown",
   "metadata": {},
   "source": [
    "One more thing to use in this problem is [StandardScaler](http://scikit-learn.org/stable/modules/generated/sklearn.preprocessing.StandardScaler.html). Instead of fitting a model on original data, use StandardScaler to make each feature centered ([Example](http://scikit-learn.org/stable/auto_examples/applications/plot_prediction_latency.html#sphx-glr-auto-examples-applications-plot-prediction-latency-py)). Whenever you have training and test data, fit a scaler on training data and use this scaler on test data. Here, scale only features (independent variables), not target variable y. "
   ]
  },
  {
   "cell_type": "markdown",
   "metadata": {},
   "source": [
    "1) (5pts) Use [sklearn.neural_nework.MLPRegressor](http://scikit-learn.org/stable/modules/generated/sklearn.neural_network.MLPRegressor.html#sklearn.neural_network.MLPRegressor) to do a 5-fold cross validation using sklearn's [KFold](http://scikit-learn.org/stable/modules/generated/sklearn.model_selection.KFold.html#sklearn.model_selection.KFold). The cross validation must be performed on the **training data**. Use following parameter settings for MLPRegressor:\n",
    "\n",
    "    activation = 'tanh', solver = 'sgd', learning_rate='constant', random_state=42,\n",
    "    batch_size=30, learning_rate_init = 0.005\n",
    "    \n",
    "Now, consider the following settings for the number of hidden units:\n",
    "    \n",
    "   (a) *hidden_layer_sizes = (2,)* \n",
    "   \n",
    "   (b) *hidden_layer_sizes = (10,)*\n",
    "   \n",
    "   (c) *hidden_layer_sizes = (30,)*\n",
    "   \n",
    "   (d) *hidden_layer_sizes = (50,)*\n",
    "   \n",
    "   Report the average Root Mean Squared Error (RMSE) value based on your 5-fold cross validation for each model.\n",
    "   \n",
    "   \n",
    "2) (5pts) Now, using the same parameters used in part 1), train MLPRegressor models on the entire training set and report the RMSE score for both the trainnig and testing sets (again, use StandardScaler). Which of the four models ((a)-(d)) performs the best? Briefly analyze and discuss the results, commenting on the number of hidden units.\n",
    "\n",
    "\n",
    "3) (5pts) MLPRegressor has a built-in attribute *loss\\_curve\\_* which returns the loss at each epoch (misleadingly referred to as \"iteration\" in scikit documentation, though they use epoch in the actual code!). For example, if your model is named as *my_model* you can call it as *my\\_model.loss\\_curve\\_* ([example](http://scikit-learn.org/stable/auto_examples/neural_networks/plot_mlp_training_curves.html#sphx-glr-auto-examples-neural-networks-plot-mlp-training-curves-py)). Plot three curves using below conditions (a, b, c) in one figure, where *X-axis* is epoch  number and *Y-axis* is squared root of *loss\\_curve\\_* valu;:\n",
    "\n",
    "   (a) *hidden_layer_sizes = (1,)* \n",
    "   \n",
    "   (b) *hidden_layer_sizes = (5,)*\n",
    "   \n",
    "   (c) *hidden_layer_sizes = (10,)*"
   ]
  },
  {
   "cell_type": "markdown",
   "metadata": {},
   "source": [
    "## Answer"
   ]
  },
  {
   "cell_type": "markdown",
   "metadata": {},
   "source": [
    "# Question 3 - [Kaggle Competition] Nomad2018 Predicting Transparent Conductors (25 pts)"
   ]
  },
  {
   "cell_type": "markdown",
   "metadata": {},
   "source": [
    "In this problem, we are going to explore a Kaggle competition: [Transparent Conductors](https://www.kaggle.com/c/nomad2018-predict-transparent-conductors). Your goal is to obtain the best score you can in this competition.\n",
    "\n",
    "The first step is to make a Kaggle account. Then find this competition and read the competition details and the description of the dataset. \n",
    "\n",
    "Your work should meet the following requirements:\n",
    "\n",
    "1. Data Preprocessing. \n",
    " * Conduct some data preprocessing. (Hint: see if there is any skewed features and consider applying suitable transformation techniques to make them more \"normal\").\n",
    " * Impute the missing values (if any).\n",
    " * Create new features using interactions\n",
    "2. Predictive Models. \n",
    " * You have to create three models: Lasso regression, Ridge regression, and multilayer perceptron.  For Lasso and Ridge regression, optimize the alphas using cross validation. For the MLP model, you can use one hidden layer. You may try other predictive models to get better scores (optional).\n",
    "3. Get a score of 0.0800 or lower on the Private Leaderboard. Take a screenshot of your private leaderboard after submission as proof. You can also click My Submissions tab to see the history of your submissions. It will show both Public Leaderboard & Private Leaderboard score.\n",
    "\n",
    "Briefly describe your work on each of these steps. Explain (very briefly) what approaches you tried, what worked and what did not work. Mention your team's kaggle name and include a screen shot of your public submission score. Finally, try your best to win this competition!"
   ]
  }
 ],
 "metadata": {
  "kernelspec": {
   "display_name": "Python 3",
   "language": "python",
   "name": "python3"
  },
  "language_info": {
   "codemirror_mode": {
    "name": "ipython",
    "version": 3
   },
   "file_extension": ".py",
   "mimetype": "text/x-python",
   "name": "python",
   "nbconvert_exporter": "python",
   "pygments_lexer": "ipython3",
   "version": "3.6.5"
  }
 },
 "nbformat": 4,
 "nbformat_minor": 2
}
